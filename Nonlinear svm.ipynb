{
 "cells": [
  {
   "cell_type": "markdown",
   "id": "22bd93f4-0d35-4467-b218-39fe8ad57c22",
   "metadata": {},
   "source": [
    "#### Nonlinear Support Vector Machine"
   ]
  },
  {
   "cell_type": "markdown",
   "id": "5e4e6fb8-18fe-4ead-b630-5b3bae503b6a",
   "metadata": {},
   "source": [
    "##### Implementation"
   ]
  },
  {
   "cell_type": "code",
   "execution_count": 1,
   "id": "b3905bee-c838-44bb-8cdc-0bf4482a8b11",
   "metadata": {},
   "outputs": [],
   "source": [
    "import numpy as np\n",
    "import matplotlib.pyplot as plt\n",
    "from cvxopt import matrix, solvers\n",
    "\n",
    "def polynomial_kernel(x1, x2, degree=2):\n",
    "    \"\"\"Compute the polynomial kernel between two sets of samples.\"\"\"\n",
    "    return (1 + np.dot(x1, x2.T)) ** degree\n",
    "\n",
    "def svm_nonlinear(traindata, trainclass, C):\n",
    "    \"\"\"Train a nonlinear SVM with a polynomial kernel.\"\"\"\n",
    "    \n",
    "    trainclass = np.where(trainclass == 2, -1, 1)\n",
    "    m = traindata.shape[0]\n",
    "    \n",
    "    # Compute the kernel matrix\n",
    "    K = polynomial_kernel(traindata, traindata)\n",
    "    \n",
    "    # matrices for the QP problem\n",
    "    P = matrix(np.outer(trainclass, trainclass) * K)\n",
    "    q = matrix(-np.ones(m))\n",
    "    G = matrix(-np.eye(m))\n",
    "    h = matrix(np.zeros(m))\n",
    "    A = matrix(trainclass, (1, m), 'd')\n",
    "    b = matrix(0.0)\n",
    "    \n",
    "    # Solve the QP problem\n",
    "    sol = solvers.qp(P, q, G, h, A, b)\n",
    "    \n",
    "    # Get the Lagrange multipliers \n",
    "    alphas = np.ravel(sol['x'])\n",
    "    \n",
    "    # Identify support vectors\n",
    "    sv_idx = alphas > 1e-5\n",
    "    alphas = alphas[sv_idx]\n",
    "    svs = traindata[sv_idx]\n",
    "    sv_classes = trainclass[sv_idx]\n",
    "    \n",
    "    # Compute the bias term \n",
    "    w0 = np.mean([sv_classes[i] - np.sum(alphas * sv_classes * polynomial_kernel(svs[i], svs)) for i in range(len(svs))])\n",
    "    \n",
    "    return svs, sv_classes, alphas, w0\n",
    "\n"
   ]
  },
  {
   "cell_type": "markdown",
   "id": "66a27743-e199-4f0a-98cc-54f646282bd6",
   "metadata": {},
   "source": [
    "##### Import necessary libraries and load the data "
   ]
  },
  {
   "cell_type": "code",
   "execution_count": 2,
   "id": "23e2327e-7c32-4f78-983b-f15909732d16",
   "metadata": {},
   "outputs": [],
   "source": [
    "import pandas as pd\n",
    "import matplotlib.pyplot as plt"
   ]
  },
  {
   "cell_type": "code",
   "execution_count": 3,
   "id": "83cbac60-3829-4d8e-b549-2a48b0258007",
   "metadata": {},
   "outputs": [
    {
     "data": {
      "text/html": [
       "<div>\n",
       "<style scoped>\n",
       "    .dataframe tbody tr th:only-of-type {\n",
       "        vertical-align: middle;\n",
       "    }\n",
       "\n",
       "    .dataframe tbody tr th {\n",
       "        vertical-align: top;\n",
       "    }\n",
       "\n",
       "    .dataframe thead th {\n",
       "        text-align: right;\n",
       "    }\n",
       "</style>\n",
       "<table border=\"1\" class=\"dataframe\">\n",
       "  <thead>\n",
       "    <tr style=\"text-align: right;\">\n",
       "      <th></th>\n",
       "      <th>0</th>\n",
       "      <th>1</th>\n",
       "      <th>2</th>\n",
       "    </tr>\n",
       "  </thead>\n",
       "  <tbody>\n",
       "    <tr>\n",
       "      <th>0</th>\n",
       "      <td>20.656186</td>\n",
       "      <td>22.474374</td>\n",
       "      <td>1</td>\n",
       "    </tr>\n",
       "    <tr>\n",
       "      <th>1</th>\n",
       "      <td>20.191666</td>\n",
       "      <td>21.137179</td>\n",
       "      <td>1</td>\n",
       "    </tr>\n",
       "    <tr>\n",
       "      <th>2</th>\n",
       "      <td>21.639415</td>\n",
       "      <td>24.497344</td>\n",
       "      <td>1</td>\n",
       "    </tr>\n",
       "    <tr>\n",
       "      <th>3</th>\n",
       "      <td>21.568652</td>\n",
       "      <td>21.258380</td>\n",
       "      <td>1</td>\n",
       "    </tr>\n",
       "    <tr>\n",
       "      <th>4</th>\n",
       "      <td>22.164946</td>\n",
       "      <td>24.211911</td>\n",
       "      <td>1</td>\n",
       "    </tr>\n",
       "  </tbody>\n",
       "</table>\n",
       "</div>"
      ],
      "text/plain": [
       "           0          1  2\n",
       "0  20.656186  22.474374  1\n",
       "1  20.191666  21.137179  1\n",
       "2  21.639415  24.497344  1\n",
       "3  21.568652  21.258380  1\n",
       "4  22.164946  24.211911  1"
      ]
     },
     "execution_count": 3,
     "metadata": {},
     "output_type": "execute_result"
    }
   ],
   "source": [
    "data = pd.read_csv(\"t030.csv\", header = None)\n",
    "data.head(5)"
   ]
  },
  {
   "cell_type": "markdown",
   "id": "b509eed4-f054-4947-a94e-5d604e1f9b1d",
   "metadata": {},
   "source": [
    "##### Extract class features and labels"
   ]
  },
  {
   "cell_type": "code",
   "execution_count": 4,
   "id": "ae2e3372-90d3-416d-9aa4-b69387412ba2",
   "metadata": {},
   "outputs": [],
   "source": [
    "traindata = data.iloc[:, :-1].values \n",
    "trainclass = data.iloc[:, -1].values"
   ]
  },
  {
   "cell_type": "markdown",
   "id": "ec38335e-ea86-4979-8260-1a3cf43261ea",
   "metadata": {},
   "source": [
    "##### Run the SVM function and display outputs"
   ]
  },
  {
   "cell_type": "code",
   "execution_count": 5,
   "id": "693263a6-9d32-4a81-acc6-0fb84cc9607d",
   "metadata": {},
   "outputs": [
    {
     "name": "stdout",
     "output_type": "stream",
     "text": [
      "     pcost       dcost       gap    pres   dres\n",
      " 0: -4.1027e+00 -9.4010e+00  1e+02  9e+00  2e+00\n",
      " 1: -7.8948e+00 -5.3081e+00  3e+01  2e+00  6e-01\n",
      " 2: -1.3581e+00 -9.0367e-01  4e+00  2e-01  6e-02\n",
      " 3: -6.3680e-01 -3.0872e-01  8e-01  5e-02  1e-02\n",
      " 4: -1.6458e-01 -1.4203e-01  1e-01  5e-03  1e-03\n",
      " 5: -1.0919e-01 -1.1376e-01  5e-03  1e-17  1e-11\n",
      " 6: -1.1117e-01 -1.1122e-01  5e-05  1e-17  7e-12\n",
      " 7: -1.1119e-01 -1.1119e-01  5e-07  2e-17  7e-12\n",
      " 8: -1.1119e-01 -1.1119e-01  5e-09  2e-17  9e-12\n",
      "Optimal solution found.\n"
     ]
    },
    {
     "data": {
      "text/plain": [
       "(array([[20.6703856 , 20.32656844],\n",
       "        [10.43710943, 14.6661493 ],\n",
       "        [14.        ,  7.        ],\n",
       "        [20.        , 17.        ]]),\n",
       " array([ 1, -1,  1, -1]),\n",
       " array([0.06914002, 0.02369226, 0.0420508 , 0.08749856]),\n",
       " -9.109018549904249)"
      ]
     },
     "execution_count": 5,
     "metadata": {},
     "output_type": "execute_result"
    }
   ],
   "source": [
    "svm_nonlinear(traindata, trainclass, 1)"
   ]
  },
  {
   "cell_type": "code",
   "execution_count": 6,
   "id": "fdd71cd6-8ad2-479c-92e2-6779a052d28a",
   "metadata": {},
   "outputs": [],
   "source": [
    "def plot_decision_boundary(traindata, trainclass, svs, sv_classes, alphas, w0):\n",
    "    \"\"\"Plot the decision boundary and the support vectors.\"\"\"\n",
    "    plt.figure(figsize=(10, 6))\n",
    "    \n",
    "    # Plot the training data\n",
    "    plt.scatter(traindata[trainclass == 1][:, 0], traindata[trainclass == 1][:, 1], color='blue', label='Class 1', s=100)\n",
    "    plt.scatter(traindata[trainclass == 2][:, 0], traindata[trainclass == 2][:, 1], color='red', label='Class 2', s=100)\n",
    "    \n",
    "    # Plot support vectors\n",
    "    plt.scatter(svs[:, 0], svs[:, 1], facecolors='none', edgecolors='k', s=300, label='Support Vectors')\n",
    "    \n",
    "    # Create a grid to plot the decision boundary\n",
    "    xlim = plt.xlim()\n",
    "    ylim = plt.ylim()\n",
    "    xx, yy = np.meshgrid(np.linspace(xlim[0], xlim[1], 100), np.linspace(ylim[0], ylim[1], 100))\n",
    "    \n",
    "    # Evaluate decision function on the grid\n",
    "    grid = np.c_[xx.ravel(), yy.ravel()]\n",
    "    K_grid = polynomial_kernel(grid, svs)\n",
    "    decision_scores = np.dot(K_grid, alphas * sv_classes) + w0\n",
    "    decision_scores = decision_scores.reshape(xx.shape)\n",
    "    \n",
    "    # Plot the decision boundary and margins\n",
    "    plt.contour(xx, yy, decision_scores, levels=[0], linewidths=2, colors='k')\n",
    "    plt.title('Nonlinear SVM with Polynomial Kernel')\n",
    "    plt.xlabel('Feature 1')\n",
    "    plt.ylabel('Feature 2')\n",
    "    plt.legend()\n",
    "    plt.grid()\n",
    "    plt.show()"
   ]
  },
  {
   "cell_type": "code",
   "execution_count": 7,
   "id": "9e059977-166f-4324-ba4a-55dc7cf2bf4c",
   "metadata": {},
   "outputs": [
    {
     "name": "stdout",
     "output_type": "stream",
     "text": [
      "     pcost       dcost       gap    pres   dres\n",
      " 0: -4.1027e+00 -9.4010e+00  1e+02  9e+00  2e+00\n",
      " 1: -7.8948e+00 -5.3081e+00  3e+01  2e+00  6e-01\n",
      " 2: -1.3581e+00 -9.0367e-01  4e+00  2e-01  6e-02\n",
      " 3: -6.3680e-01 -3.0872e-01  8e-01  5e-02  1e-02\n",
      " 4: -1.6458e-01 -1.4203e-01  1e-01  5e-03  1e-03\n",
      " 5: -1.0919e-01 -1.1376e-01  5e-03  1e-17  1e-11\n",
      " 6: -1.1117e-01 -1.1122e-01  5e-05  1e-17  7e-12\n",
      " 7: -1.1119e-01 -1.1119e-01  5e-07  2e-17  7e-12\n",
      " 8: -1.1119e-01 -1.1119e-01  5e-09  2e-17  9e-12\n",
      "Optimal solution found.\n"
     ]
    },
    {
     "data": {
      "image/png": "[encoded data removed]",
      "text/plain": [
       "<Figure size 1000x600 with 1 Axes>"
      ]
     },
     "metadata": {},
     "output_type": "display_data"
    }
   ],
   "source": [
    "svs, sv_classes, alphas, w0 = svm_nonlinear(traindata, trainclass, C =1)\n",
    "\n",
    "# Plot the decision boundary and data\n",
    "plot_decision_boundary(traindata, trainclass, svs, sv_classes, alphas, w0)"
   ]
  },
  {
   "cell_type": "markdown",
   "id": "13c58597-90b5-4fe4-95a9-d07ec340c33b",
   "metadata": {},
   "source": [
    "#### Lets do train test split to evaluate the model\n",
    "Few changes were made to the previous implementation, like the parameters of the model, and this only returns a class of test data."
   ]
  },
  {
   "cell_type": "code",
   "execution_count": 8,
   "id": "1a75f6e0-c1e7-4b4e-b25b-fdaea85840e5",
   "metadata": {},
   "outputs": [],
   "source": [
    "def svm_nonlinear(traindata, trainclass, testdata, C):\n",
    "    trainclass = np.where(trainclass == 2, -1, 1)  \n",
    "  \n",
    "    m, n = traindata.shape\n",
    "\n",
    "    # Compute the Kernel matrix\n",
    "    K = np.zeros((m, m))\n",
    "    for i in range(m):\n",
    "        for j in range(m):\n",
    "            K[i, j] = polynomial_kernel(traindata[i], traindata[j])\n",
    "    \n",
    "    # Matrice for the QP problem\n",
    "    P = matrix(np.outer(trainclass, trainclass) * K)\n",
    "    q = matrix(-np.ones(m))\n",
    "    G = matrix(np.vstack((-np.eye(m), np.eye(m))))\n",
    "    h = matrix(np.hstack((np.zeros(m), C * np.ones(m))))\n",
    "    A = matrix(trainclass, (1, m), 'd')\n",
    "    b = matrix(0.0)\n",
    "    \n",
    "    # Solve the quadratic programming problem\n",
    "    sol = solvers.qp(P, q, G, h, A, b)\n",
    "    alphas = np.ravel(sol['x'])\n",
    "    \n",
    "    #  support vectors\n",
    "    sv_idx = alphas > 1e-5\n",
    "    alphas = alphas[sv_idx]\n",
    "    svs = traindata[sv_idx]\n",
    "    sv_classes = trainclass[sv_idx]\n",
    "    \n",
    "    # Calculate weight vector (w) in the kernel space\n",
    "    w = np.sum(alphas[:, None] * sv_classes[:, None] * svs, axis=0)\n",
    "    \n",
    "    # Compute the bias term\n",
    "    bias_terms = []\n",
    "    for i in range(len(alphas)):\n",
    "        bias_terms.append(sv_classes[i] - np.sum(alphas * sv_classes * K[sv_idx][:, i]))\n",
    "    w0 = np.mean(bias_terms)\n",
    "    \n",
    "    # Classify test data\n",
    "    testclass = []\n",
    "    for x in testdata:\n",
    "        decision_value = np.sum(alphas * sv_classes * np.array([polynomial_kernel(x, sv) for sv in svs])) + w0\n",
    "        testclass.append(1 if decision_value > 0 else -1)\n",
    "    \n",
    "    return np.array(testclass)"
   ]
  },
  {
   "cell_type": "markdown",
   "id": "f17329f4-3492-4e40-81e6-425f89d9b4e2",
   "metadata": {},
   "source": [
    "###### For simplicity lets use sklearn to split the data"
   ]
  },
  {
   "cell_type": "code",
   "execution_count": 9,
   "id": "254aabc2-2068-46f0-9c0f-71c7ce08ac1a",
   "metadata": {},
   "outputs": [],
   "source": [
    "from sklearn.model_selection import train_test_split\n",
    "X = traindata\n",
    "y = trainclass\n",
    "Traindata, Testdata, Trainclass, Testclass = train_test_split(X, y, test_size=0.2, random_state=42)"
   ]
  },
  {
   "cell_type": "code",
   "execution_count": 10,
   "id": "484859f2-6f62-4263-baaf-ab3f09fd5ec0",
   "metadata": {},
   "outputs": [
    {
     "name": "stdout",
     "output_type": "stream",
     "text": [
      "     pcost       dcost       gap    pres   dres\n",
      " 0: -3.6358e+00 -4.9277e+01  2e+02  2e+00  2e-10\n",
      " 1: -2.2971e+00 -2.2874e+01  4e+01  2e-01  1e-10\n",
      " 2: -1.1101e+00 -6.4856e+00  1e+01  6e-02  1e-10\n",
      " 3: -4.8946e-01 -2.1293e+00  3e+00  2e-02  1e-10\n",
      " 4: -6.1247e-02 -1.6541e-01  1e-01  3e-04  5e-11\n",
      " 5: -7.8656e-02 -8.7818e-02  1e-02  2e-05  5e-12\n",
      " 6: -8.2386e-02 -8.2484e-02  1e-04  2e-07  7e-12\n",
      " 7: -8.2426e-02 -8.2427e-02  1e-06  2e-09  5e-12\n",
      " 8: -8.2426e-02 -8.2426e-02  1e-08  2e-11  6e-12\n",
      "Optimal solution found.\n"
     ]
    }
   ],
   "source": [
    "predicted_testclass = svm_nonlinear(Traindata, Trainclass, Testdata, C =1)"
   ]
  },
  {
   "cell_type": "code",
   "execution_count": 11,
   "id": "385d7eb0-1bd6-42f0-a267-fe901ee0bb9e",
   "metadata": {},
   "outputs": [
    {
     "name": "stdout",
     "output_type": "stream",
     "text": [
      "     pcost       dcost       gap    pres   dres\n",
      " 0: -3.6358e+00 -4.9277e+01  2e+02  2e+00  2e-10\n",
      " 1: -2.2971e+00 -2.2874e+01  4e+01  2e-01  1e-10\n",
      " 2: -1.1101e+00 -6.4856e+00  1e+01  6e-02  1e-10\n",
      " 3: -4.8946e-01 -2.1293e+00  3e+00  2e-02  1e-10\n",
      " 4: -6.1247e-02 -1.6541e-01  1e-01  3e-04  5e-11\n",
      " 5: -7.8656e-02 -8.7818e-02  1e-02  2e-05  5e-12\n",
      " 6: -8.2386e-02 -8.2484e-02  1e-04  2e-07  7e-12\n",
      " 7: -8.2426e-02 -8.2427e-02  1e-06  2e-09  5e-12\n",
      " 8: -8.2426e-02 -8.2426e-02  1e-08  2e-11  6e-12\n",
      "Optimal solution found.\n"
     ]
    },
    {
     "data": {
      "text/plain": [
       "array([-1, -1,  1, -1,  1, -1, -1, -1, -1])"
      ]
     },
     "execution_count": 11,
     "metadata": {},
     "output_type": "execute_result"
    }
   ],
   "source": [
    "svm_nonlinear(Traindata, Trainclass, Testdata, C =1)"
   ]
  },
  {
   "cell_type": "code",
   "execution_count": 12,
   "id": "803087cd-5c77-4f35-9efd-1fc9bbd092f4",
   "metadata": {},
   "outputs": [
    {
     "name": "stdout",
     "output_type": "stream",
     "text": [
      "Accuracy: 77.78%\n"
     ]
    }
   ],
   "source": [
    "# Convert Testclass to match the recoding format (+1 and -1)\n",
    "Testclass_recoded = np.where(Testclass == 2, -1, 1)\n",
    "\n",
    "# Calculate accuracy\n",
    "accuracy = np.mean(predicted_testclass == Testclass_recoded)\n",
    "\n",
    "# Print accuracy\n",
    "print(f'Accuracy: {accuracy * 100:.2f}%')\n"
   ]
  },
  {
   "cell_type": "code",
   "execution_count": 13,
   "id": "abaaa619-48ef-456e-8f40-7262acf5c089",
   "metadata": {},
   "outputs": [
    {
     "data": {
      "text/plain": [
       "array([-1,  1,  1, -1,  1, -1,  1, -1, -1])"
      ]
     },
     "execution_count": 13,
     "metadata": {},
     "output_type": "execute_result"
    }
   ],
   "source": [
    "Testclass_recoded"
   ]
  },
  {
   "cell_type": "code",
   "execution_count": null,
   "id": "092a6af6-b508-4709-b210-0d76e02b3fc2",
   "metadata": {},
   "outputs": [],
   "source": []
  }
 ],
 "metadata": {
  "kernelspec": {
   "display_name": "Python 3 (ipykernel)",
   "language": "python",
   "name": "python3"
  },
  "language_info": {
   "codemirror_mode": {
    "name": "ipython",
    "version": 3
   },
   "file_extension": ".py",
   "mimetype": "text/x-python",
   "name": "python",
   "nbconvert_exporter": "python",
   "pygments_lexer": "ipython3",
   "version": "3.11.7"
  }
 },
 "nbformat": 4,
 "nbformat_minor": 5
}
